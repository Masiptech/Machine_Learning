{
 "cells": [
  {
   "cell_type": "markdown",
   "metadata": {},
   "source": [
    "# Training neural network with gradient descent\n",
    "\n",
    "Same as last time let's start with loading data and plot them."
   ]
  },
  {
   "cell_type": "code",
   "execution_count": 1,
   "metadata": {
    "collapsed": false
   },
   "outputs": [
    {
     "data": {
      "text/plain": [
       "[<matplotlib.lines.Line2D at 0x10949f828>]"
      ]
     },
     "execution_count": 1,
     "metadata": {},
     "output_type": "execute_result"
    },
    {
     "data": {
      "image/png": "[encoded data removed]",
      "text/plain": [
       "<matplotlib.figure.Figure at 0x10949f7f0>"
      ]
     },
     "metadata": {},
     "output_type": "display_data"
    }
   ],
   "source": [
    "%matplotlib inline\n",
    "import matplotlib.pyplot as plt\n",
    "import numpy as np\n",
    "\n",
    "data = np.loadtxt('data2.txt')\n",
    "\n",
    "x = data[:,0:2]\n",
    "y = data[:,2]\n",
    "\n",
    "plt.plot(x[y == 1, 0], x[y == 1, 1], 'o', color='red', markersize=15)\n",
    "plt.plot(x[y == -1, 0], x[y == -1, 1], 'o', color='blue', markersize=15)"
   ]
  },
  {
   "cell_type": "markdown",
   "metadata": {},
   "source": [
    "Now this is our neural network code. We are going to write a neural network object that can train itself to classify these data points."
   ]
  },
  {
   "cell_type": "code",
   "execution_count": 2,
   "metadata": {
    "collapsed": true
   },
   "outputs": [],
   "source": [
    "# define activation function here\n",
    "def g(x):\n",
    "    return np.tanh(x)\n",
    "\n",
    "# here's the derivative of activation function\n",
    "def gprime(x):\n",
    "    return 1.0 - g(x)**2\n",
    "\n",
    "class NeuralNetwork:\n",
    "    def __init__(self, L, alpha):\n",
    "        \"\"\"\n",
    "        L is the layer structure for example\n",
    "        L = [2,4,1]\n",
    "        network has 3 layers: \n",
    "        # layer 1 has 2 units\n",
    "        # layer 2 has 4 units\n",
    "        # layer 3 has 1 units\n",
    "        \"\"\"\n",
    "        \n",
    "        self.L = L\n",
    "        self.L[0] += 1\n",
    "        self.nL = len(self.L)\n",
    "        self.alpha = alpha\n",
    "\n",
    "        # initialize weight with random numbers\n",
    "        self.W = []\n",
    "        for l in range(1, self.nL):\n",
    "            w = np.random.uniform(high=0.25, low=-0.25, size=(self.L[l - 1], self.L[l]))\n",
    "            self.W.append(w)\n",
    "\n",
    "        # initialize activity to be ones\n",
    "        self.a = []\n",
    "        for l in range(0, self.nL):\n",
    "            tmp = np.ones(self.L[l])\n",
    "            self.a.append(tmp)\n",
    "\n",
    "        # initialize current to be zeros\n",
    "        self.z = []\n",
    "        for l in range(0, self.nL):\n",
    "            tmp = np.zeros(self.L[l])\n",
    "            self.z.append(tmp)\n",
    "\n",
    "        # initialize deltas: this variable contains gradient w.r.t neural network weights\n",
    "        self.deltas = []\n",
    "        for l in range(self.nL-1):\n",
    "            tmp = np.zeros(self.L[l])\n",
    "            self.deltas.append(tmp)\n",
    "\n",
    "    def forward_propagate(self, x):\n",
    "        \"\"\"\n",
    "        This function calculates the activity of all neural network units given input x.\n",
    "        \"\"\"\n",
    "        x = np.atleast_2d(x)\n",
    "        tmp = np.ones((x.shape[0], 1))\n",
    "        x = np.hstack((x, tmp))\n",
    "        self.a[0] = x\n",
    "\n",
    "        for l in range(self.nL-1):\n",
    "            self.z[l+1] = np.dot(self.a[l], self.W[l])\n",
    "            self.a[l+1] = g(self.z[l+1])\n",
    "        return self.a[-1]\n",
    "\n",
    "    def back_propagate(self, x, y):\n",
    "        \"\"\"\n",
    "        This function calculates the gradient cost function w.r.t neural network weights.\n",
    "        Gradient is calculated using backpropagation algorithm.\n",
    "        \"\"\"\n",
    "        self.forward_propagate(x)\n",
    "\n",
    "        error = y - self.a[-1]\n",
    "        self.deltas[-1] = np.atleast_2d(error * gprime(self.z[-1]))\n",
    "\n",
    "        for l in range(self.nL - 2, 0, -1):\n",
    "            self.deltas[l-1] = np.dot(self.deltas[l], self.W[l].T)*gprime(self.z[l])\n",
    "        \n",
    "        # This code update the neural network weights based on calculated gradient.\n",
    "        for l in range(self.nL-1):\n",
    "            self.W[l] += self.alpha * np.dot(self.a[l].T, self.deltas[l])\n",
    "\n",
    "    def train(self, x, y, epochs=5000):\n",
    "        \"\"\"\n",
    "        This code runs a for loop over and over. Update the neural network weights at each loop\n",
    "        \"\"\"\n",
    "        \n",
    "         # check if dimension of x is correct\n",
    "        if x.shape[1] != self.L[0] - 1:\n",
    "            raise ValueError('x has wrong dimension')\n",
    "\n",
    "        for iter in range(1, epochs):\n",
    "            for s in range(x.shape[0]):\n",
    "                self.back_propagate(x[s], y[s])\n",
    "                \n",
    "            # for fun we asks it to print classification accuracy every 100 iterations\n",
    "            if iter % 100 == 0:\n",
    "                print(\"iter {}: accuracy {}\".format(iter, self.classify(x, y)))\n",
    "\n",
    "            \n",
    "    def classify(self, x, y):\n",
    "        \"\"\"\n",
    "        This code asks neural network to classify data points in x, assess classification accuracy, and output it.\n",
    "        \"\"\"\n",
    "        correct = 0\n",
    "        for s in range(x.shape[0]):\n",
    "            self.forward_propagate(x[s])\n",
    "            if self.a[-1] > 0:\n",
    "                c = 1.0\n",
    "            else:\n",
    "                c = -1.0\n",
    "            if c == y[s]:\n",
    "                correct += 1\n",
    "        return correct/x.shape[0]"
   ]
  },
  {
   "cell_type": "markdown",
   "metadata": {},
   "source": [
    "# Train the neural network to classify our data"
   ]
  },
  {
   "cell_type": "code",
   "execution_count": 5,
   "metadata": {
    "collapsed": false
   },
   "outputs": [
    {
     "name": "stdout",
     "output_type": "stream",
     "text": [
      "iter 100: accuracy 0.36\n",
      "iter 200: accuracy 0.36\n",
      "iter 300: accuracy 0.36\n",
      "iter 400: accuracy 0.68\n",
      "iter 500: accuracy 0.92\n",
      "iter 600: accuracy 1.0\n",
      "iter 700: accuracy 1.0\n",
      "iter 800: accuracy 1.0\n",
      "iter 900: accuracy 1.0\n"
     ]
    }
   ],
   "source": [
    "nn = NeuralNetwork([2, 5, 1], 0.01)\n",
    "data = np.loadtxt('data2.txt')\n",
    "\n",
    "x = np.array(data[:,0:2])\n",
    "y = np.array(data[:,2]).T\n",
    "y[y==0] = -1\n",
    "\n",
    "nn.train(x, y, epochs=1000)"
   ]
  }
 ],
 "metadata": {
  "kernelspec": {
   "display_name": "Python 3",
   "language": "python",
   "name": "python3"
  },
  "language_info": {
   "codemirror_mode": {
    "name": "ipython",
    "version": 3
   },
   "file_extension": ".py",
   "mimetype": "text/x-python",
   "name": "python",
   "nbconvert_exporter": "python",
   "pygments_lexer": "ipython3",
   "version": "3.5.2"
  }
 },
 "nbformat": 4,
 "nbformat_minor": 1
}
